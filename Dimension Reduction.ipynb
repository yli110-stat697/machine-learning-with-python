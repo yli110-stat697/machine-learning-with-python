{
 "cells": [
  {
   "cell_type": "markdown",
   "metadata": {},
   "source": [
    "Dimension Reduction via feature extraction, which is to summarize the information by transforming it onto a new feature subspace of lower dimensionality.\n",
    "\n",
    "- Pricipal Component Analysis (PCA) for unsupervised data compression\n",
    "- Linear Discriminant Analysis (LDA) as a supervised dim redcution technique for max class separability\n",
    "- Nonlinear dim reduction via Kernel PCA (KPCA)"
   ]
  },
  {
   "cell_type": "markdown",
   "metadata": {},
   "source": [
    "# PCA steps\n",
    "\n",
    "- standardize data\n",
    "- covariance matrix\n",
    "- decompose convariance matrix to get eigenvectors and eigenvalues\n",
    "- sort eigenvalues by decreasing order to rank\n",
    "- largest k eigenvectors\n",
    "- projection matrix"
   ]
  },
  {
   "cell_type": "code",
   "execution_count": 1,
   "metadata": {},
   "outputs": [
    {
     "data": {
      "text/html": [
       "<div>\n",
       "<style scoped>\n",
       "    .dataframe tbody tr th:only-of-type {\n",
       "        vertical-align: middle;\n",
       "    }\n",
       "\n",
       "    .dataframe tbody tr th {\n",
       "        vertical-align: top;\n",
       "    }\n",
       "\n",
       "    .dataframe thead th {\n",
       "        text-align: right;\n",
       "    }\n",
       "</style>\n",
       "<table border=\"1\" class=\"dataframe\">\n",
       "  <thead>\n",
       "    <tr style=\"text-align: right;\">\n",
       "      <th></th>\n",
       "      <th>0</th>\n",
       "      <th>1</th>\n",
       "      <th>2</th>\n",
       "      <th>3</th>\n",
       "      <th>4</th>\n",
       "      <th>5</th>\n",
       "      <th>6</th>\n",
       "      <th>7</th>\n",
       "      <th>8</th>\n",
       "      <th>9</th>\n",
       "      <th>10</th>\n",
       "      <th>11</th>\n",
       "      <th>12</th>\n",
       "      <th>13</th>\n",
       "    </tr>\n",
       "  </thead>\n",
       "  <tbody>\n",
       "    <tr>\n",
       "      <th>0</th>\n",
       "      <td>1</td>\n",
       "      <td>14.23</td>\n",
       "      <td>1.71</td>\n",
       "      <td>2.43</td>\n",
       "      <td>15.6</td>\n",
       "      <td>127</td>\n",
       "      <td>2.80</td>\n",
       "      <td>3.06</td>\n",
       "      <td>0.28</td>\n",
       "      <td>2.29</td>\n",
       "      <td>5.64</td>\n",
       "      <td>1.04</td>\n",
       "      <td>3.92</td>\n",
       "      <td>1065</td>\n",
       "    </tr>\n",
       "    <tr>\n",
       "      <th>1</th>\n",
       "      <td>1</td>\n",
       "      <td>13.20</td>\n",
       "      <td>1.78</td>\n",
       "      <td>2.14</td>\n",
       "      <td>11.2</td>\n",
       "      <td>100</td>\n",
       "      <td>2.65</td>\n",
       "      <td>2.76</td>\n",
       "      <td>0.26</td>\n",
       "      <td>1.28</td>\n",
       "      <td>4.38</td>\n",
       "      <td>1.05</td>\n",
       "      <td>3.40</td>\n",
       "      <td>1050</td>\n",
       "    </tr>\n",
       "    <tr>\n",
       "      <th>2</th>\n",
       "      <td>1</td>\n",
       "      <td>13.16</td>\n",
       "      <td>2.36</td>\n",
       "      <td>2.67</td>\n",
       "      <td>18.6</td>\n",
       "      <td>101</td>\n",
       "      <td>2.80</td>\n",
       "      <td>3.24</td>\n",
       "      <td>0.30</td>\n",
       "      <td>2.81</td>\n",
       "      <td>5.68</td>\n",
       "      <td>1.03</td>\n",
       "      <td>3.17</td>\n",
       "      <td>1185</td>\n",
       "    </tr>\n",
       "    <tr>\n",
       "      <th>3</th>\n",
       "      <td>1</td>\n",
       "      <td>14.37</td>\n",
       "      <td>1.95</td>\n",
       "      <td>2.50</td>\n",
       "      <td>16.8</td>\n",
       "      <td>113</td>\n",
       "      <td>3.85</td>\n",
       "      <td>3.49</td>\n",
       "      <td>0.24</td>\n",
       "      <td>2.18</td>\n",
       "      <td>7.80</td>\n",
       "      <td>0.86</td>\n",
       "      <td>3.45</td>\n",
       "      <td>1480</td>\n",
       "    </tr>\n",
       "    <tr>\n",
       "      <th>4</th>\n",
       "      <td>1</td>\n",
       "      <td>13.24</td>\n",
       "      <td>2.59</td>\n",
       "      <td>2.87</td>\n",
       "      <td>21.0</td>\n",
       "      <td>118</td>\n",
       "      <td>2.80</td>\n",
       "      <td>2.69</td>\n",
       "      <td>0.39</td>\n",
       "      <td>1.82</td>\n",
       "      <td>4.32</td>\n",
       "      <td>1.04</td>\n",
       "      <td>2.93</td>\n",
       "      <td>735</td>\n",
       "    </tr>\n",
       "  </tbody>\n",
       "</table>\n",
       "</div>"
      ],
      "text/plain": [
       "   0      1     2     3     4    5     6     7     8     9     10    11    12  \\\n",
       "0   1  14.23  1.71  2.43  15.6  127  2.80  3.06  0.28  2.29  5.64  1.04  3.92   \n",
       "1   1  13.20  1.78  2.14  11.2  100  2.65  2.76  0.26  1.28  4.38  1.05  3.40   \n",
       "2   1  13.16  2.36  2.67  18.6  101  2.80  3.24  0.30  2.81  5.68  1.03  3.17   \n",
       "3   1  14.37  1.95  2.50  16.8  113  3.85  3.49  0.24  2.18  7.80  0.86  3.45   \n",
       "4   1  13.24  2.59  2.87  21.0  118  2.80  2.69  0.39  1.82  4.32  1.04  2.93   \n",
       "\n",
       "     13  \n",
       "0  1065  \n",
       "1  1050  \n",
       "2  1185  \n",
       "3  1480  \n",
       "4   735  "
      ]
     },
     "execution_count": 1,
     "metadata": {},
     "output_type": "execute_result"
    }
   ],
   "source": [
    "import pandas as pd\n",
    "wine = pd.read_csv(\"https://archive.ics.uci.edu/ml/machine-learning-databases/wine/wine.data\", header = None)\n",
    "wine.head()"
   ]
  },
  {
   "cell_type": "code",
   "execution_count": 2,
   "metadata": {},
   "outputs": [],
   "source": [
    "from sklearn.model_selection import train_test_split\n",
    "X, y = wine.iloc[:, 1:], wine.iloc[:, 0] # .values make it an array"
   ]
  },
  {
   "cell_type": "code",
   "execution_count": 3,
   "metadata": {},
   "outputs": [],
   "source": [
    "X_train, X_test, y_train, y_test = train_test_split(X, y, test_size=0.3, stratify=y, random_state=0)"
   ]
  },
  {
   "cell_type": "code",
   "execution_count": 4,
   "metadata": {},
   "outputs": [
    {
     "name": "stderr",
     "output_type": "stream",
     "text": [
      "/Library/Frameworks/Python.framework/Versions/3.7/lib/python3.7/site-packages/sklearn/preprocessing/data.py:625: DataConversionWarning: Data with input dtype int64, float64 were all converted to float64 by StandardScaler.\n",
      "  return self.partial_fit(X, y)\n",
      "/Library/Frameworks/Python.framework/Versions/3.7/lib/python3.7/site-packages/sklearn/base.py:462: DataConversionWarning: Data with input dtype int64, float64 were all converted to float64 by StandardScaler.\n",
      "  return self.fit(X, **fit_params).transform(X)\n",
      "/Library/Frameworks/Python.framework/Versions/3.7/lib/python3.7/site-packages/sklearn/preprocessing/data.py:625: DataConversionWarning: Data with input dtype int64, float64 were all converted to float64 by StandardScaler.\n",
      "  return self.partial_fit(X, y)\n",
      "/Library/Frameworks/Python.framework/Versions/3.7/lib/python3.7/site-packages/sklearn/base.py:462: DataConversionWarning: Data with input dtype int64, float64 were all converted to float64 by StandardScaler.\n",
      "  return self.fit(X, **fit_params).transform(X)\n"
     ]
    }
   ],
   "source": [
    "from sklearn.preprocessing import StandardScaler\n",
    "sc = StandardScaler()\n",
    "X_train_std = sc.fit_transform(X_train)\n",
    "X_test_std = sc.fit_transform(X_test)"
   ]
  },
  {
   "cell_type": "code",
   "execution_count": 5,
   "metadata": {},
   "outputs": [
    {
     "data": {
      "text/plain": [
       "array([[ 0.71225893,  2.22048673, -0.13025864, ..., -0.20017028,\n",
       "        -0.82164144, -0.62946362],\n",
       "       [ 0.88229214, -0.70457155,  1.17533605, ...,  1.33982592,\n",
       "         0.54931269,  1.47568796],\n",
       "       [ 0.84585645, -0.73022996,  1.17533605, ...,  1.06806189,\n",
       "         0.1308109 ,  1.62934866],\n",
       "       ...,\n",
       "       [ 1.02803489,  2.29746195, -0.5778911 , ..., -1.69487249,\n",
       "        -1.86068037, -1.04434751],\n",
       "       [-1.30384913, -1.08089484, -0.31677217, ...,  0.16218176,\n",
       "         0.73691694,  0.40313628],\n",
       "       [-0.40510216,  1.29678411,  0.05625489, ...,  1.06806189,\n",
       "         0.73691694, -0.89683324]])"
      ]
     },
     "execution_count": 5,
     "metadata": {},
     "output_type": "execute_result"
    }
   ],
   "source": [
    "X_train_std"
   ]
  },
  {
   "cell_type": "code",
   "execution_count": 6,
   "metadata": {},
   "outputs": [
    {
     "name": "stdout",
     "output_type": "stream",
     "text": [
      "\n",
      "Eigenvalues \n",
      "[4.84274532 2.41602459 1.54845825 0.96120438 0.84166161 0.6620634\n",
      " 0.51828472 0.34650377 0.3131368  0.10754642 0.21357215 0.15362835\n",
      " 0.1808613 ]\n"
     ]
    }
   ],
   "source": [
    "import numpy as np\n",
    "cov_mat = np.cov(X_train_std.T) #np.cov() gives you the covariance matrix\n",
    "eigen_vals, eigen_vecs = np.linalg.eig(cov_mat)\n",
    "print('\\nEigenvalues \\n%s' %eigen_vals)"
   ]
  },
  {
   "cell_type": "code",
   "execution_count": 7,
   "metadata": {},
   "outputs": [
    {
     "data": {
      "text/plain": [
       "[0.36951468599607623,\n",
       " 0.1843492705988417,\n",
       " 0.11815159094596976,\n",
       " 0.07334251763785471,\n",
       " 0.0642210782173167,\n",
       " 0.050517244849076624,\n",
       " 0.039546538912414435,\n",
       " 0.026439183169220084,\n",
       " 0.023893192591852963,\n",
       " 0.016296137737251026,\n",
       " 0.013800211221948423,\n",
       " 0.01172226244308599,\n",
       " 0.008206085679091367]"
      ]
     },
     "execution_count": 7,
     "metadata": {},
     "output_type": "execute_result"
    }
   ],
   "source": [
    "tot = sum(eigen_vals)\n",
    "var_exp = [(i/tot) for i in sorted(eigen_vals, reverse=True)]\n",
    "var_exp"
   ]
  },
  {
   "cell_type": "code",
   "execution_count": 8,
   "metadata": {},
   "outputs": [
    {
     "data": {
      "text/plain": [
       "array([0.36951469, 0.55386396, 0.67201555, 0.74535807, 0.80957914,\n",
       "       0.86009639, 0.89964293, 0.92608211, 0.9499753 , 0.96627144,\n",
       "       0.98007165, 0.99179391, 1.        ])"
      ]
     },
     "execution_count": 8,
     "metadata": {},
     "output_type": "execute_result"
    }
   ],
   "source": [
    "cum_var_exp = np.cumsum(var_exp)\n",
    "cum_var_exp"
   ]
  },
  {
   "cell_type": "code",
   "execution_count": 10,
   "metadata": {},
   "outputs": [
    {
     "data": {
      "image/png": "[encoded data removed]",
      "text/plain": [
       "<Figure size 432x288 with 1 Axes>"
      ]
     },
     "metadata": {
      "needs_background": "light"
     },
     "output_type": "display_data"
    }
   ],
   "source": [
    "import matplotlib.pyplot as plt\n",
    "plt.bar(range(1,14), var_exp, alpha=0.5, align='center',label='individual explained variance')\n",
    "plt.step(range(1,14), cum_var_exp, where='mid', label='cumulative explained variance')\n",
    "plt.ylabel('Explained variance ratio')\n",
    "plt.xlabel('Principle component index')\n",
    "plt.legend(loc='best')\n",
    "plt.show()"
   ]
  },
  {
   "cell_type": "code",
   "execution_count": 16,
   "metadata": {},
   "outputs": [],
   "source": [
    "eigen_pairs = [(np.abs(eigen_vals[i]), eigen_vecs[:, i])\n",
    "               for i in range(len(eigen_vals))]"
   ]
  },
  {
   "cell_type": "code",
   "execution_count": 18,
   "metadata": {},
   "outputs": [],
   "source": [
    "eigen_pairs.sort(key=lambda k:k[0], reverse=True) #lambda x:x[0] means to sort the list by the value of the first element"
   ]
  },
  {
   "cell_type": "code",
   "execution_count": 19,
   "metadata": {},
   "outputs": [
    {
     "data": {
      "text/plain": [
       "[(4.84274531565589,\n",
       "  array([-0.13724218,  0.24724326, -0.02545159,  0.20694508, -0.15436582,\n",
       "         -0.39376952, -0.41735106,  0.30572896, -0.30668347,  0.07554066,\n",
       "         -0.32613263, -0.36861022, -0.29669651])),\n",
       " (2.4160245870352246,\n",
       "  array([ 0.50303478,  0.16487119,  0.24456476, -0.11352904,  0.28974518,\n",
       "          0.05080104, -0.02287338,  0.09048885,  0.00835233,  0.54977581,\n",
       "         -0.20716433, -0.24902536,  0.38022942])),\n",
       " (1.5484582488203507,\n",
       "  array([ 0.13774873, -0.09615039, -0.67777567, -0.62504055, -0.19613548,\n",
       "         -0.14031057, -0.11705386, -0.13121778, -0.0304309 ,  0.07992997,\n",
       "         -0.05305915, -0.13239103,  0.07065022])),\n",
       " (0.9612043774977375,\n",
       "  array([ 0.0032961 , -0.56264669,  0.10897711, -0.0338187 ,  0.36751107,\n",
       "         -0.24024513, -0.1870533 ,  0.02292622, -0.49626233, -0.10648294,\n",
       "          0.36905375, -0.14201609,  0.16768217])),\n",
       " (0.841661610457841,\n",
       "  array([ 0.29062523, -0.08953787,  0.16083499, -0.05158734, -0.67648707,\n",
       "          0.11851114,  0.10710035,  0.50758161, -0.20163462, -0.00573607,\n",
       "          0.27691422,  0.06662756,  0.12802904])),\n",
       " (0.6620634040383045,\n",
       "  array([-2.99096847e-01, -6.27036396e-01, -3.89128239e-04,  4.05836452e-02,\n",
       "         -6.57772614e-02,  5.89776247e-02,  3.01103180e-02,  2.71728086e-01,\n",
       "          4.39997519e-01,  4.11743459e-01, -1.41673377e-01, -1.75842384e-01,\n",
       "         -1.38018388e-01])),\n",
       " (0.5182847213561953,\n",
       "  array([-0.07905293,  0.27400201, -0.13232805, -0.2239991 ,  0.40526897,\n",
       "          0.03474194, -0.04178357,  0.63114569,  0.32312277, -0.26908262,\n",
       "          0.30264066, -0.13054014, -0.00081134])),\n",
       " (0.34650376641286784,\n",
       "  array([ 0.36817641,  0.01257758, -0.17757818,  0.44059211, -0.1166175 ,\n",
       "         -0.35019213, -0.21871818, -0.19712942,  0.43305587,  0.06684118,\n",
       "          0.45976229, -0.11082755, -0.00560817])),\n",
       " (0.313136800472089,\n",
       "  array([ 0.39837702, -0.11045823, -0.38249686,  0.24337385,  0.25898236,\n",
       "          0.34231286,  0.03612316,  0.17143688, -0.24437021,  0.15551492,\n",
       "         -0.02119612,  0.23808956, -0.51727846])),\n",
       " (0.21357214660527346,\n",
       "  array([ 0.37463888, -0.1374056 ,  0.46158303, -0.41895399,  0.01004706,\n",
       "         -0.22125424, -0.04175136, -0.08875695,  0.19992186, -0.22166887,\n",
       "         -0.09846946,  0.01912058, -0.54253207])),\n",
       " (0.1808613047949662,\n",
       "  array([ 0.26283426, -0.26676921, -0.11554255,  0.19948341,  0.02890188,\n",
       "         -0.06638686, -0.21334908,  0.18639128,  0.16808299, -0.46636903,\n",
       "         -0.53248388,  0.23783528,  0.36776336])),\n",
       " (0.1536283500671106,\n",
       "  array([-0.12783451,  0.08064016,  0.01679249, -0.11084566,  0.07938796,\n",
       "         -0.49145931, -0.0503074 ,  0.17532803, -0.00367596,  0.35975654,\n",
       "          0.04046698,  0.74222954,  0.03873952])),\n",
       " (0.10754642369670955,\n",
       "  array([-0.09448698,  0.02636524,  0.14274751, -0.13048578, -0.06760808,\n",
       "          0.45991766, -0.81458395, -0.09574809,  0.06724689,  0.08733362,\n",
       "          0.12906113,  0.18764627,  0.01211126]))]"
      ]
     },
     "execution_count": 19,
     "metadata": {},
     "output_type": "execute_result"
    }
   ],
   "source": [
    "eigen_pairs"
   ]
  },
  {
   "cell_type": "code",
   "execution_count": 21,
   "metadata": {},
   "outputs": [
    {
     "name": "stdout",
     "output_type": "stream",
     "text": [
      "Matrix W:\n",
      " [[-0.13724218  0.50303478]\n",
      " [ 0.24724326  0.16487119]\n",
      " [-0.02545159  0.24456476]\n",
      " [ 0.20694508 -0.11352904]\n",
      " [-0.15436582  0.28974518]\n",
      " [-0.39376952  0.05080104]\n",
      " [-0.41735106 -0.02287338]\n",
      " [ 0.30572896  0.09048885]\n",
      " [-0.30668347  0.00835233]\n",
      " [ 0.07554066  0.54977581]\n",
      " [-0.32613263 -0.20716433]\n",
      " [-0.36861022 -0.24902536]\n",
      " [-0.29669651  0.38022942]]\n"
     ]
    }
   ],
   "source": [
    "#projection matrix\n",
    "w = np.hstack((eigen_pairs[0][1][:, np.newaxis],\n",
    "               eigen_pairs[1][1][:, np.newaxis]))\n",
    "print('Matrix W:\\n', w)"
   ]
  },
  {
   "cell_type": "code",
   "execution_count": 22,
   "metadata": {},
   "outputs": [
    {
     "data": {
      "text/plain": [
       "array([ 0.71225893,  2.22048673, -0.13025864,  0.05962872, -0.50432733,\n",
       "       -0.52831584, -1.24000033,  0.84118003, -1.05215112, -0.29218864,\n",
       "       -0.20017028, -0.82164144, -0.62946362])"
      ]
     },
     "execution_count": 22,
     "metadata": {},
     "output_type": "execute_result"
    }
   ],
   "source": [
    "X_train_std[0]"
   ]
  },
  {
   "cell_type": "code",
   "execution_count": 23,
   "metadata": {},
   "outputs": [
    {
     "data": {
      "text/plain": [
       "array([2.38299011, 0.45458499])"
      ]
     },
     "execution_count": 23,
     "metadata": {},
     "output_type": "execute_result"
    }
   ],
   "source": [
    "X_train_std[0].dot(w)"
   ]
  },
  {
   "cell_type": "code",
   "execution_count": 24,
   "metadata": {},
   "outputs": [],
   "source": [
    "X_train_pca = X_train_std.dot(w)"
   ]
  },
  {
   "cell_type": "code",
   "execution_count": 25,
   "metadata": {},
   "outputs": [
    {
     "data": {
      "text/plain": [
       "array([[ 2.38299011,  0.45458499],\n",
       "       [-1.96578183,  1.65376939],\n",
       "       [-2.53907598,  1.02909066],\n",
       "       [-1.43010776,  0.6024011 ],\n",
       "       [ 3.14147227,  0.66214979],\n",
       "       [ 0.50253552, -2.08907131],\n",
       "       [ 0.04867722, -2.27536044],\n",
       "       [ 2.47888989, -0.08603318],\n",
       "       [ 2.01900259, -1.3538719 ],\n",
       "       [ 0.75156583, -2.55367947],\n",
       "       [ 0.72268915, -1.18404391],\n",
       "       [-3.00366211,  0.94626934],\n",
       "       [ 2.57518878, -1.0697549 ],\n",
       "       [ 3.73151104,  1.01968876],\n",
       "       [-1.12276518,  0.13877   ],\n",
       "       [ 2.85996853,  2.28819559],\n",
       "       [-0.74717125, -3.21746061],\n",
       "       [-1.58427878,  0.16048055],\n",
       "       [ 3.38887101,  2.11550689],\n",
       "       [ 3.15405473,  0.54233966],\n",
       "       [-1.28036506, -1.72926871],\n",
       "       [-1.71438911,  0.71745249],\n",
       "       [-1.55040291, -1.7580591 ],\n",
       "       [ 1.10984489, -1.20480693],\n",
       "       [-0.69108418, -1.71385374],\n",
       "       [-2.086036  , -1.68453671],\n",
       "       [ 2.90393456,  1.95258805],\n",
       "       [-2.07635784,  1.47183304],\n",
       "       [-1.74756185, -1.25842546],\n",
       "       [ 2.59424456, -0.1056037 ],\n",
       "       [-2.50372355,  0.70412212],\n",
       "       [-2.19448402,  2.18657552],\n",
       "       [ 3.91634534,  0.16136475],\n",
       "       [-1.11739618,  0.51921086],\n",
       "       [-0.89996804, -2.04759575],\n",
       "       [-1.71469178,  0.61392169],\n",
       "       [-2.48581303,  0.76839561],\n",
       "       [-0.76080562, -1.67615627],\n",
       "       [ 2.9265371 ,  0.18854741],\n",
       "       [ 2.94423716,  1.34812388],\n",
       "       [-2.38993219,  1.0848074 ],\n",
       "       [ 2.63885049,  0.75274937],\n",
       "       [ 2.51009031,  2.25237953],\n",
       "       [ 3.65248086,  1.74839925],\n",
       "       [-2.65169609,  1.01997476],\n",
       "       [ 0.52544559, -2.13528249],\n",
       "       [ 2.70197573,  0.56476307],\n",
       "       [ 3.18414708,  2.58094695],\n",
       "       [ 1.12517041, -1.85054449],\n",
       "       [ 2.92366519,  0.41699915],\n",
       "       [-1.96122314, -1.28613661],\n",
       "       [ 0.54473673, -1.07897226],\n",
       "       [-0.77030308, -1.93386815],\n",
       "       [-1.16670455,  0.00489815],\n",
       "       [-1.36475309, -2.13572269],\n",
       "       [ 0.43563732, -2.56929607],\n",
       "       [ 2.96191745,  1.91091009],\n",
       "       [ 2.83609557,  0.65386032],\n",
       "       [ 1.90402089, -0.35296542],\n",
       "       [-2.4858391 , -0.21308835],\n",
       "       [-2.16575568,  1.1468486 ],\n",
       "       [ 0.00669776, -0.94337624],\n",
       "       [ 1.06560181,  3.31221025],\n",
       "       [ 2.13117911,  1.90551304],\n",
       "       [ 1.53543483, -1.50854979],\n",
       "       [-2.66783112,  1.75933599],\n",
       "       [ 0.57279998, -2.7511383 ],\n",
       "       [-0.70710916, -2.43798549],\n",
       "       [-0.99606577, -1.4772411 ],\n",
       "       [-2.67324153,  1.35779609],\n",
       "       [-2.36367378,  1.66537927],\n",
       "       [-0.39171875,  0.13747499],\n",
       "       [-2.98908845,  2.16983165],\n",
       "       [-1.91822539,  1.60141809],\n",
       "       [ 2.3114458 ,  0.207123  ],\n",
       "       [-1.06050503,  0.6004608 ],\n",
       "       [-2.74858609, -0.29016054],\n",
       "       [ 2.26650077,  2.14491758],\n",
       "       [-1.15517469, -0.50262909],\n",
       "       [ 0.16602503, -2.26850051],\n",
       "       [ 1.35589389,  0.33353007],\n",
       "       [-3.31185057,  1.39240115],\n",
       "       [-0.33245686, -2.15639865],\n",
       "       [-2.23205085,  0.52868143],\n",
       "       [ 0.18583758, -1.44446967],\n",
       "       [ 0.84560856,  0.17151684],\n",
       "       [ 2.69500472,  2.74522492],\n",
       "       [ 0.44645674, -0.62393943],\n",
       "       [-1.88961007, -0.04400723],\n",
       "       [-3.08131761,  1.59724429],\n",
       "       [-3.45716348,  1.21428442],\n",
       "       [ 3.87665629,  0.46446004],\n",
       "       [ 1.575516  , -1.82299839],\n",
       "       [-3.43344371,  1.6116814 ],\n",
       "       [-4.20642597,  2.20145366],\n",
       "       [-0.14042971, -2.36871639],\n",
       "       [ 1.82731521, -1.39485103],\n",
       "       [ 2.20564744,  1.28462066],\n",
       "       [ 1.64999054,  2.33211134],\n",
       "       [-1.4611033 , -0.46480324],\n",
       "       [-0.60047516,  0.00920072],\n",
       "       [-3.08276231,  0.28287148],\n",
       "       [ 0.45035749, -2.20263755],\n",
       "       [ 0.90806897, -2.0881686 ],\n",
       "       [ 3.24973637, -0.18273485],\n",
       "       [-3.07882055,  0.69622621],\n",
       "       [ 2.54277306,  1.88571652],\n",
       "       [-2.84838157,  0.63274325],\n",
       "       [-0.88997271, -0.67927226],\n",
       "       [ 0.32368249, -2.07006175],\n",
       "       [ 0.32007527, -2.88708519],\n",
       "       [ 0.44889188, -2.14872532],\n",
       "       [-2.46582558,  1.0745577 ],\n",
       "       [ 2.81678113,  0.56344444],\n",
       "       [-2.16983025,  0.16644199],\n",
       "       [-2.66728229,  1.38137702],\n",
       "       [-3.53223924,  2.57906029],\n",
       "       [-1.96637688,  1.18319185],\n",
       "       [ 1.68741216, -1.35075321],\n",
       "       [ 0.43521077, -2.40355817],\n",
       "       [ 2.59045115,  1.63852921],\n",
       "       [ 4.35308397,  0.66536041],\n",
       "       [-1.84315373, -1.50688415],\n",
       "       [-0.40860955, -1.29720607]])"
      ]
     },
     "execution_count": 25,
     "metadata": {},
     "output_type": "execute_result"
    }
   ],
   "source": [
    "X_train_pca"
   ]
  },
  {
   "cell_type": "code",
   "execution_count": 33,
   "metadata": {},
   "outputs": [
    {
     "data": {
      "image/png": "[encoded data removed]",
      "text/plain": [
       "<Figure size 432x288 with 1 Axes>"
      ]
     },
     "metadata": {
      "needs_background": "light"
     },
     "output_type": "display_data"
    }
   ],
   "source": [
    "colors = ['r','b','g']\n",
    "markers = ['s', 'x', 'o']\n",
    "for l, c, m in zip(np.unique(y_train), colors, markers):\n",
    "    plt.scatter(X_train_pca[y_train==l, 0],\n",
    "                X_train_pca[y_train==l, 1],\n",
    "                c=c, marker = m, label=1)\n",
    "plt.xlabel('PC 1')\n",
    "plt.ylabel('PC 2')\n",
    "plt.legend(loc = 'lower left')\n",
    "plt.show()"
   ]
  },
  {
   "cell_type": "code",
   "execution_count": 35,
   "metadata": {},
   "outputs": [],
   "source": [
    "from matplotlib.colors import ListedColormap\n",
    "def plot_decision_region(X, y, classifier, resolution = 0.02):\n",
    "    # setup marker generator and color map\n",
    "    colors = ('red', 'blue', 'lightgreen', 'gray', 'cyan')\n",
    "    markers = ('s', 'x', 'o', '^', 'v')\n",
    "    cmap = ListedColormap(colors[:len(np.unique(y))])\n",
    "    \n",
    "    # plot the decision surface\n",
    "    x1_min, x1_max = X[:, 0].min() - 1, X[:, 0].max() + 1\n",
    "    x2_min, x2_max = X[:, 1].min() - 1, X[:, 1].max() + 1\n",
    "    xx1, xx2 = np.meshgrid(np.arange(x1_min, x1_max, resolution),\n",
    "                           np.arange(x2_min, x2_max, resolution))\n",
    "    z = classifier.predict(np.array([xx1.ravel(), xx2.ravel()]).T)\n",
    "    z = z.reshape(xx1.shape)\n",
    "    \n",
    "    plt.contourf(xx1, xx2, z, alpha = 0.3, cmap = cmap)\n",
    "    plt.xlim(xx1.min(), xx1.max())\n",
    "    plt.ylim(xx2.min(), xx2.max())\n",
    "    \n",
    "    # plot class samples\n",
    "    for idx, cl in enumerate(np.unique(y)):\n",
    "        plt.scatter(x = X[ y == cl, 0],\n",
    "                    y = X[ y == cl, 1],\n",
    "                    alpha = 0.8,\n",
    "                    c = colors[idx],\n",
    "                    marker = markers[idx],\n",
    "                    label = cl,\n",
    "                    edgecolor = 'black')"
   ]
  },
  {
   "cell_type": "code",
   "execution_count": 36,
   "metadata": {},
   "outputs": [],
   "source": [
    "from sklearn.linear_model import LogisticRegression\n",
    "from sklearn.decomposition import PCA\n",
    "\n",
    "pca = PCA(n_components=2)\n",
    "lr = LogisticRegression()\n",
    "X_train_pca = pca.fit_transform(X_train_std)\n",
    "X_test_pca = pca.fit_transform(X_test_std)"
   ]
  },
  {
   "cell_type": "code",
   "execution_count": 37,
   "metadata": {},
   "outputs": [
    {
     "name": "stderr",
     "output_type": "stream",
     "text": [
      "/Library/Frameworks/Python.framework/Versions/3.7/lib/python3.7/site-packages/sklearn/linear_model/logistic.py:433: FutureWarning: Default solver will be changed to 'lbfgs' in 0.22. Specify a solver to silence this warning.\n",
      "  FutureWarning)\n",
      "/Library/Frameworks/Python.framework/Versions/3.7/lib/python3.7/site-packages/sklearn/linear_model/logistic.py:460: FutureWarning: Default multi_class will be changed to 'auto' in 0.22. Specify the multi_class option to silence this warning.\n",
      "  \"this warning.\", FutureWarning)\n"
     ]
    },
    {
     "data": {
      "image/png": "[encoded data removed]",
      "text/plain": [
       "<Figure size 432x288 with 1 Axes>"
      ]
     },
     "metadata": {
      "needs_background": "light"
     },
     "output_type": "display_data"
    }
   ],
   "source": [
    "lr.fit(X_train_pca, y_train)\n",
    "plot_decision_region(X_train_pca, y_train, classifier=lr)\n",
    "plt.xlabel('PC 1')\n",
    "plt.ylabel('PC 2')\n",
    "plt.legend(loc = 'lower left')\n",
    "plt.show()"
   ]
  },
  {
   "cell_type": "code",
   "execution_count": 41,
   "metadata": {},
   "outputs": [
    {
     "data": {
      "image/png": "[encoded data removed]",
      "text/plain": [
       "<Figure size 432x288 with 1 Axes>"
      ]
     },
     "metadata": {
      "needs_background": "light"
     },
     "output_type": "display_data"
    }
   ],
   "source": [
    "X_test_pca = X_test_pca*(-1)\n",
    "plot_decision_region(X_test_pca, y_test, classifier=lr)\n",
    "plt.xlabel('PC 1')\n",
    "plt.ylabel('PC 2')\n",
    "plt.show()"
   ]
  },
  {
   "cell_type": "markdown",
   "metadata": {},
   "source": [
    "# LDA, linear discriminant analysis"
   ]
  },
  {
   "cell_type": "code",
   "execution_count": null,
   "metadata": {},
   "outputs": [],
   "source": []
  }
 ],
 "metadata": {
  "kernelspec": {
   "display_name": "Python 3",
   "language": "python",
   "name": "python3"
  },
  "language_info": {
   "codemirror_mode": {
    "name": "ipython",
    "version": 3
   },
   "file_extension": ".py",
   "mimetype": "text/x-python",
   "name": "python",
   "nbconvert_exporter": "python",
   "pygments_lexer": "ipython3",
   "version": "3.7.2"
  }
 },
 "nbformat": 4,
 "nbformat_minor": 2
}
