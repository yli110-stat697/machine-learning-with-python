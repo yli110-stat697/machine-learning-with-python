{
 "cells": [
  {
   "cell_type": "markdown",
   "metadata": {},
   "source": [
    "First, install **sklearn, quandl, and pandas packages** in Terminal.\n",
    "\n",
    "$python3 -m pip install numpy\n",
    "-m flag tells python to execute a specific module, which is pip in this case. (pip is only a default module in python3, not python2)"
   ]
  },
  {
   "cell_type": "code",
   "execution_count": 15,
   "metadata": {},
   "outputs": [],
   "source": [
    "import pandas\n",
    "import quandl\n",
    "import math"
   ]
  },
  {
   "cell_type": "code",
   "execution_count": 7,
   "metadata": {},
   "outputs": [],
   "source": [
    "quandl.ApiConfig.api_key = 'pQZHkPuWxhWwL4yRmeds'\n",
    "df = quandl.get_table('SMA/FBD', date='2014-01-01,2014-01-02,2014-01-03', brand_ticker='MCD,GM,PEP')"
   ]
  },
  {
   "cell_type": "code",
   "execution_count": 9,
   "metadata": {},
   "outputs": [
    {
     "name": "stdout",
     "output_type": "stream",
     "text": [
      "     brand_ticker          page_id             sector    geography       date  \\\n",
      "None                                                                            \n",
      "0             MCD     100023357865  Restaurant & Cafe     Thailand 2014-01-01   \n",
      "1             MCD     100023357865  Restaurant & Cafe     Thailand 2014-01-02   \n",
      "2             MCD     100023357865  Restaurant & Cafe     Thailand 2014-01-03   \n",
      "3              GM  100145153364543         Automotive  Middle East 2014-01-01   \n",
      "4              GM  100145153364543         Automotive  Middle East 2014-01-02   \n",
      "\n",
      "        fans  new_fans  fan_post_count  admin_post_count  admin_post_likes  \\\n",
      "None                                                                         \n",
      "0     647466        38               0                 4               680   \n",
      "1     647558        92               0                 3              1060   \n",
      "2     647769       211               0                 2              6890   \n",
      "3     250982         0               0                 2                68   \n",
      "4     251069        87               0                 0                 0   \n",
      "\n",
      "      ...  promoted-admin_post_reach  promoted-admin_post_impressions  \\\n",
      "None  ...                                                               \n",
      "0     ...                          0                                0   \n",
      "1     ...                          0                                0   \n",
      "2     ...                          0                                0   \n",
      "3     ...                          0                                0   \n",
      "4     ...                          0                                0   \n",
      "\n",
      "      promoted-engagement_score  organic-admin_post_count  \\\n",
      "None                                                        \n",
      "0                             0                         4   \n",
      "1                             0                         3   \n",
      "2                             0                         2   \n",
      "3                             0                         2   \n",
      "4                             0                         0   \n",
      "\n",
      "      organic-admin_post_likes  organic-admin_post_comments  \\\n",
      "None                                                          \n",
      "0                          680                           10   \n",
      "1                         1060                           81   \n",
      "2                         6890                          228   \n",
      "3                           68                           18   \n",
      "4                            0                            0   \n",
      "\n",
      "      organic-admin_post_shares  organic-admin_post_reach  \\\n",
      "None                                                        \n",
      "0                            31                         0   \n",
      "1                            47                         0   \n",
      "2                          1642                         0   \n",
      "3                             4                         0   \n",
      "4                             0                         0   \n",
      "\n",
      "      organic-admin_post_impressions  organic-engagement_score  \n",
      "None                                                            \n",
      "0                                  0                        57  \n",
      "1                                  0                       135  \n",
      "2                                  0                       936  \n",
      "3                                  0                        46  \n",
      "4                                  0                         0  \n",
      "\n",
      "[5 rows x 30 columns]\n"
     ]
    }
   ],
   "source": [
    "print(df.head())"
   ]
  },
  {
   "cell_type": "code",
   "execution_count": 13,
   "metadata": {},
   "outputs": [
    {
     "name": "stdout",
     "output_type": "stream",
     "text": [
      "      organic-engagement_score  organic-admin_post_impressions\n",
      "None                                                          \n",
      "0                           57                               0\n",
      "1                          135                               0\n",
      "2                          936                               0\n",
      "3                           46                               0\n",
      "4                            0                               0\n"
     ]
    }
   ],
   "source": [
    "print(df[['organic-engagement_score','organic-admin_post_impressions']].head()) #need [[]] to select columns"
   ]
  },
  {
   "cell_type": "code",
   "execution_count": 14,
   "metadata": {},
   "outputs": [
    {
     "data": {
      "text/plain": [
       "pandas.core.frame.DataFrame"
      ]
     },
     "execution_count": 14,
     "metadata": {},
     "output_type": "execute_result"
    }
   ],
   "source": [
    "type(df)"
   ]
  },
  {
   "cell_type": "code",
   "execution_count": null,
   "metadata": {},
   "outputs": [],
   "source": []
  }
 ],
 "metadata": {
  "kernelspec": {
   "display_name": "Python 3",
   "language": "python",
   "name": "python3"
  },
  "language_info": {
   "codemirror_mode": {
    "name": "ipython",
    "version": 3
   },
   "file_extension": ".py",
   "mimetype": "text/x-python",
   "name": "python",
   "nbconvert_exporter": "python",
   "pygments_lexer": "ipython3",
   "version": "3.7.2"
  }
 },
 "nbformat": 4,
 "nbformat_minor": 2
}
