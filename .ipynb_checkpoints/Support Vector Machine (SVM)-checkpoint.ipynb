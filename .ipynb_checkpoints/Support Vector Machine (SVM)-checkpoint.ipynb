{
 "cells": [
  {
   "cell_type": "code",
   "execution_count": 11,
   "metadata": {},
   "outputs": [],
   "source": [
    "import numpy as np\n",
    "import matplotlib.pyplot as plt"
   ]
  },
  {
   "cell_type": "code",
   "execution_count": 1,
   "metadata": {},
   "outputs": [],
   "source": [
    "# create training and test datasets\n",
    "\n",
    "from sklearn import datasets\n",
    "iris = datasets.load_iris()\n",
    "\n",
    "X = iris.data[:, [2,3]]\n",
    "y = iris.target\n",
    "\n",
    "from sklearn.model_selection import train_test_split\n",
    "X_train, X_test, y_train, y_test = train_test_split(X, y, test_size=0.3, random_state=1, stratify=y)"
   ]
  },
  {
   "cell_type": "code",
   "execution_count": 2,
   "metadata": {},
   "outputs": [],
   "source": [
    "# standardize the datasets\n",
    "from sklearn.preprocessing import StandardScaler\n",
    "sc = StandardScaler()\n",
    "\n",
    "sc.fit(X_train)\n",
    "\n",
    "X_train_std = sc.transform(X_train)\n",
    "X_test_std = sc.transform(X_test)"
   ]
  },
  {
   "cell_type": "code",
   "execution_count": 5,
   "metadata": {},
   "outputs": [],
   "source": [
    "X_combine_std = np.vstack((X_train_std, X_test_std))\n",
    "y_combine_std = np.hstack((y_train, y_test))"
   ]
  },
  {
   "cell_type": "code",
   "execution_count": 7,
   "metadata": {},
   "outputs": [
    {
     "data": {
      "text/plain": [
       "array([[-1.33269725, -1.30728421],\n",
       "       [-1.16537974, -1.30728421],\n",
       "       [ 0.84243039,  1.44587881],\n",
       "       [ 1.0655204 ,  1.18367281],\n",
       "       [-1.44424226, -1.30728421],\n",
       "       [ 1.0097479 ,  1.57698181],\n",
       "       [ 1.56747294,  1.18367281],\n",
       "       [-1.44424226, -1.30728421],\n",
       "       [ 1.12129291,  0.5281578 ],\n",
       "       [ 0.45202286,  0.1348488 ],\n",
       "       [-0.27301968, -0.2584602 ],\n",
       "       [ 0.06161534,  0.2659518 ],\n",
       "       [-1.38846976, -1.30728421],\n",
       "       [ 0.50779537,  0.0037458 ],\n",
       "       [ 0.11738784,  0.1348488 ],\n",
       "       [ 0.73088538,  0.92146681],\n",
       "       [-1.05383474, -1.30728421],\n",
       "       [-0.16147468, -0.2584602 ],\n",
       "       [ 0.06161534,  0.0037458 ],\n",
       "       [-1.22115225, -1.30728421],\n",
       "       [ 0.56356787,  0.79036381],\n",
       "       [ 1.73479045,  1.44587881],\n",
       "       [ 0.39625036,  0.3970548 ],\n",
       "       [ 0.39625036,  0.1348488 ],\n",
       "       [ 0.00584283, -0.1273572 ],\n",
       "       [ 1.0097479 ,  1.57698181],\n",
       "       [ 0.50779537,  0.2659518 ],\n",
       "       [ 1.0097479 ,  0.2659518 ],\n",
       "       [ 1.12129291,  1.31477581],\n",
       "       [ 0.73088538,  1.57698181],\n",
       "       [ 0.17316034,  0.1348488 ],\n",
       "       [-1.27692475, -1.04507821],\n",
       "       [ 1.62324544,  1.31477581],\n",
       "       [ 0.67511288,  0.92146681],\n",
       "       [ 0.56356787,  0.79036381],\n",
       "       [ 1.0097479 ,  1.18367281],\n",
       "       [ 0.22893285,  0.3970548 ],\n",
       "       [ 1.62324544,  1.05256981],\n",
       "       [ 0.9539754 ,  0.79036381],\n",
       "       [-1.22115225, -1.30728421],\n",
       "       [ 0.61934037,  0.79036381],\n",
       "       [-1.33269725, -1.30728421],\n",
       "       [ 0.73088538,  0.3970548 ],\n",
       "       [-1.05383474, -1.04507821],\n",
       "       [-1.55578727, -1.30728421],\n",
       "       [ 0.61934037,  0.3970548 ],\n",
       "       [-1.27692475, -1.30728421],\n",
       "       [-1.50001477, -1.43838721],\n",
       "       [ 0.9539754 ,  0.79036381],\n",
       "       [ 0.50779537,  0.3970548 ],\n",
       "       [-1.16537974, -1.17618121],\n",
       "       [-0.16147468, -0.2584602 ],\n",
       "       [ 0.17316034, -0.2584602 ],\n",
       "       [-1.27692475, -1.30728421],\n",
       "       [-1.27692475, -1.30728421],\n",
       "       [-1.27692475, -1.30728421],\n",
       "       [-0.04992967, -0.2584602 ],\n",
       "       [ 1.28861042,  1.70808482],\n",
       "       [-1.38846976, -1.17618121],\n",
       "       [ 0.61934037,  0.3970548 ],\n",
       "       [-1.38846976, -1.30728421],\n",
       "       [ 0.39625036,  0.5281578 ],\n",
       "       [ 1.23283791,  0.79036381],\n",
       "       [-1.22115225, -1.30728421],\n",
       "       [-1.33269725, -1.30728421],\n",
       "       [ 0.34047786,  0.0037458 ],\n",
       "       [ 0.73088538,  0.92146681],\n",
       "       [-0.10570217,  0.1348488 ],\n",
       "       [ 0.17316034,  0.1348488 ],\n",
       "       [ 0.56356787,  0.79036381],\n",
       "       [ 1.28861042,  1.44587881],\n",
       "       [ 0.39625036,  0.3970548 ],\n",
       "       [ 0.39625036,  0.3970548 ],\n",
       "       [ 0.89820289,  1.18367281],\n",
       "       [ 1.0097479 ,  1.31477581],\n",
       "       [ 0.45202286,  0.2659518 ],\n",
       "       [-1.27692475, -1.04507821],\n",
       "       [-1.16537974, -0.91397521],\n",
       "       [ 1.28861042,  0.92146681],\n",
       "       [ 0.73088538,  0.5281578 ],\n",
       "       [ 1.45592793,  1.05256981],\n",
       "       [ 0.67511288,  0.3970548 ],\n",
       "       [-1.27692475, -1.30728421],\n",
       "       [ 0.22893285,  0.1348488 ],\n",
       "       [ 0.73088538,  1.05256981],\n",
       "       [ 1.23283791,  1.70808482],\n",
       "       [-1.27692475, -1.17618121],\n",
       "       [-1.33269725, -1.30728421],\n",
       "       [ 1.0097479 ,  0.79036381],\n",
       "       [-1.33269725, -1.17618121],\n",
       "       [ 1.17706541,  1.44587881],\n",
       "       [ 0.06161534, -0.1273572 ],\n",
       "       [ 0.22893285,  0.0037458 ],\n",
       "       [ 0.28470535,  0.1348488 ],\n",
       "       [-1.27692475, -1.43838721],\n",
       "       [ 0.78665788,  1.44587881],\n",
       "       [ 0.34047786,  0.1348488 ],\n",
       "       [-1.38846976, -1.30728421],\n",
       "       [-1.33269725, -1.17618121],\n",
       "       [ 0.67511288,  0.65926081],\n",
       "       [-1.38846976, -1.17618121],\n",
       "       [ 0.11738784,  0.0037458 ],\n",
       "       [-1.22115225, -1.04507821],\n",
       "       [-1.27692475, -1.30728421],\n",
       "       [-1.38846976, -1.30728421],\n",
       "       [ 0.89820289,  1.44587881],\n",
       "       [-1.16537974, -1.04507821],\n",
       "       [-1.33269725, -1.17618121],\n",
       "       [ 0.39625036,  0.65926081],\n",
       "       [ 0.34047786,  0.2659518 ],\n",
       "       [ 0.11738784,  0.1348488 ],\n",
       "       [ 1.12129291,  0.79036381],\n",
       "       [ 0.39625036,  0.3970548 ],\n",
       "       [ 0.84243039,  0.92146681],\n",
       "       [-1.38846976, -1.04507821],\n",
       "       [-1.27692475, -1.04507821],\n",
       "       [ 0.61934037,  0.79036381],\n",
       "       [-1.33269725, -1.30728421],\n",
       "       [-0.27301968, -0.2584602 ],\n",
       "       [-1.33269725, -1.30728421],\n",
       "       [ 0.56356787,  0.2659518 ],\n",
       "       [ 0.73088538,  1.44587881],\n",
       "       [ 0.39625036,  0.3970548 ],\n",
       "       [ 0.28470535,  0.1348488 ],\n",
       "       [ 0.78665788,  1.05256981],\n",
       "       [ 1.17706541,  1.18367281],\n",
       "       [-1.33269725, -1.43838721],\n",
       "       [ 0.34047786,  0.2659518 ],\n",
       "       [ 0.61934037,  1.05256981],\n",
       "       [ 0.22893285,  0.1348488 ],\n",
       "       [ 0.50779537,  0.5281578 ],\n",
       "       [-0.4403372 , -0.1273572 ],\n",
       "       [ 1.0655204 ,  1.70808482],\n",
       "       [-1.22115225, -0.78287221],\n",
       "       [ 0.67511288,  1.05256981],\n",
       "       [-1.22115225, -1.30728421],\n",
       "       [-1.33269725, -1.30728421],\n",
       "       [ 0.11738784, -0.2584602 ],\n",
       "       [ 0.11738784,  0.1348488 ],\n",
       "       [ 1.40015543,  0.79036381],\n",
       "       [ 0.9539754 ,  1.18367281],\n",
       "       [-1.33269725, -1.43838721],\n",
       "       [-1.22115225, -1.30728421],\n",
       "       [-1.33269725, -1.30728421],\n",
       "       [ 0.50779537,  0.2659518 ],\n",
       "       [ 1.0655204 ,  1.44587881],\n",
       "       [ 0.73088538,  0.79036381],\n",
       "       [ 0.45202286,  0.3970548 ],\n",
       "       [-1.27692475, -1.30728421],\n",
       "       [-1.27692475, -1.43838721]])"
      ]
     },
     "execution_count": 7,
     "metadata": {},
     "output_type": "execute_result"
    }
   ],
   "source": [
    "X_combine_std"
   ]
  },
  {
   "cell_type": "code",
   "execution_count": 8,
   "metadata": {},
   "outputs": [],
   "source": [
    "from matplotlib.colors import ListedColormap\n",
    "def plot_decision_region(X, y, classifier, test_idx = None, resolution = 0.02):\n",
    "    # setup marker generator and color map\n",
    "    colors = ('red', 'blue', 'lightgreen', 'gray', 'cyan')\n",
    "    markers = ('s', 'x', 'o', '^', 'v')\n",
    "    cmap = ListedColormap(colors[:len(np.unique(y))])\n",
    "    \n",
    "    # plot the decision surface\n",
    "    x1_min, x1_max = X[:, 0].min() - 1, X[:, 0].max() + 1\n",
    "    x2_min, x2_max = X[:, 1].min() - 1, X[:, 1].max() + 1\n",
    "    xx1, xx2 = np.meshgrid(np.arange(x1_min, x1_max, resolution),\n",
    "                           np.arange(x2_min, x2_max, resolution))\n",
    "    z = classifier.predict(np.array([xx1.ravel(), xx2.ravel()]).T)\n",
    "    z = z.reshape(xx1.shape)\n",
    "    \n",
    "    plt.contourf(xx1, xx2, z, alpha = 0.3, cmap = cmap)\n",
    "    plt.xlim(xx1.min(), xx1.max())\n",
    "    plt.ylim(xx2.min(), xx2.max())\n",
    "    \n",
    "    # plot class samples\n",
    "    for idx, cl in enumerate(np.unique(y)):\n",
    "        plt.scatter(x = X[ y == cl, 0],\n",
    "                    y = X[ y == cl, 1],\n",
    "                    alpha = 0.8,\n",
    "                    c = colors[idx],\n",
    "                    marker = markers[idx],\n",
    "                    label = cl,\n",
    "                    edgecolor = 'black')\n",
    "        \n",
    "    #highlight test samples\n",
    "    if test_idx:\n",
    "        #plot all samples\n",
    "        X_test, y_test = X[test_idx, :], y[test_idx]\n",
    "        \n",
    "        plt.scatter(X_test[:, 0], X_test[:, 1],\n",
    "                    c = '', edgecolor = 'black', alpha = 1.0,\n",
    "                    linewidth=1, marker ='o', s=100, label = 'test set')"
   ]
  },
  {
   "cell_type": "code",
   "execution_count": 9,
   "metadata": {},
   "outputs": [
    {
     "data": {
      "text/plain": [
       "SVC(C=1.0, cache_size=200, class_weight=None, coef0=0.0,\n",
       "  decision_function_shape='ovr', degree=3, gamma='auto_deprecated',\n",
       "  kernel='linear', max_iter=-1, probability=False, random_state=1,\n",
       "  shrinking=True, tol=0.001, verbose=False)"
      ]
     },
     "execution_count": 9,
     "metadata": {},
     "output_type": "execute_result"
    }
   ],
   "source": [
    "from sklearn.svm import SVC\n",
    "svm = SVC(kernel='linear', C=1.0, random_state=1)\n",
    "svm.fit(X_train_std, y_train)"
   ]
  },
  {
   "cell_type": "code",
   "execution_count": 12,
   "metadata": {},
   "outputs": [
    {
     "data": {
      "image/png": "[encoded data removed]",
      "text/plain": [
       "<Figure size 432x288 with 1 Axes>"
      ]
     },
     "metadata": {
      "needs_background": "light"
     },
     "output_type": "display_data"
    }
   ],
   "source": [
    "plot_decision_region(X_combine_std,\n",
    "                     y_combine_std,\n",
    "                     classifier=svm,\n",
    "                     test_idx=range(105,150))\n",
    "plt.xlabel('petal length')\n",
    "plt.ylabel('petal width')\n",
    "plt.legend(loc='upper left')\n",
    "plt.show()"
   ]
  },
  {
   "cell_type": "markdown",
   "metadata": {},
   "source": [
    "If our datasets are too large to fit into our computer memory, we can use the partial_fit method which is stochastic gradient algorithm.\n"
   ]
  },
  {
   "cell_type": "code",
   "execution_count": 14,
   "metadata": {},
   "outputs": [],
   "source": [
    "from sklearn.linear_model import SGDClassifier\n",
    "ppn = SGDClassifier(loss = 'perceptron')\n",
    "lr = SGDClassifier(loss = 'log')\n",
    "svm = SGDClassifier(loss= 'hinge')"
   ]
  },
  {
   "cell_type": "code",
   "execution_count": 17,
   "metadata": {},
   "outputs": [
    {
     "data": {
      "text/plain": [
       "SGDClassifier(alpha=0.0001, average=False, class_weight=None,\n",
       "       early_stopping=False, epsilon=0.1, eta0=0.0, fit_intercept=True,\n",
       "       l1_ratio=0.15, learning_rate='optimal', loss='hinge', max_iter=None,\n",
       "       n_iter=None, n_iter_no_change=5, n_jobs=None, penalty='l2',\n",
       "       power_t=0.5, random_state=None, shuffle=True, tol=None,\n",
       "       validation_fraction=0.1, verbose=0, warm_start=False)"
      ]
     },
     "execution_count": 17,
     "metadata": {},
     "output_type": "execute_result"
    }
   ],
   "source": [
    "svm.partial_fit(X_train_std, y_train, classes = np.unique(y))"
   ]
  },
  {
   "cell_type": "code",
   "execution_count": 18,
   "metadata": {},
   "outputs": [
    {
     "data": {
      "text/plain": [
       "array([2, 0, 0, 2, 1, 1, 2, 1, 2, 0, 0, 2, 0, 1, 0, 1, 2, 1, 1, 2, 2, 0,\n",
       "       1, 2, 1, 2, 0, 2, 0, 2, 0, 0, 1, 1, 2, 2, 0, 0, 0, 1, 2, 2, 1, 0,\n",
       "       0])"
      ]
     },
     "execution_count": 18,
     "metadata": {},
     "output_type": "execute_result"
    }
   ],
   "source": [
    "svm.predict(X_test_std)"
   ]
  },
  {
   "cell_type": "markdown",
   "metadata": {},
   "source": [
    "Kernel SVM for datasets that are linearly inseparable."
   ]
  },
  {
   "cell_type": "code",
   "execution_count": 19,
   "metadata": {},
   "outputs": [
    {
     "data": {
      "text/plain": [
       "array([[ 1.62434536e+00, -6.11756414e-01],\n",
       "       [-5.28171752e-01, -1.07296862e+00],\n",
       "       [ 8.65407629e-01, -2.30153870e+00],\n",
       "       [ 1.74481176e+00, -7.61206901e-01],\n",
       "       [ 3.19039096e-01, -2.49370375e-01],\n",
       "       [ 1.46210794e+00, -2.06014071e+00],\n",
       "       [-3.22417204e-01, -3.84054355e-01],\n",
       "       [ 1.13376944e+00, -1.09989127e+00],\n",
       "       [-1.72428208e-01, -8.77858418e-01],\n",
       "       [ 4.22137467e-02,  5.82815214e-01],\n",
       "       [-1.10061918e+00,  1.14472371e+00],\n",
       "       [ 9.01590721e-01,  5.02494339e-01],\n",
       "       [ 9.00855949e-01, -6.83727859e-01],\n",
       "       [-1.22890226e-01, -9.35769434e-01],\n",
       "       [-2.67888080e-01,  5.30355467e-01],\n",
       "       [-6.91660752e-01, -3.96753527e-01],\n",
       "       [-6.87172700e-01, -8.45205641e-01],\n",
       "       [-6.71246131e-01, -1.26645989e-02],\n",
       "       [-1.11731035e+00,  2.34415698e-01],\n",
       "       [ 1.65980218e+00,  7.42044161e-01],\n",
       "       [-1.91835552e-01, -8.87628964e-01],\n",
       "       [-7.47158294e-01,  1.69245460e+00],\n",
       "       [ 5.08077548e-02, -6.36995647e-01],\n",
       "       [ 1.90915485e-01,  2.10025514e+00],\n",
       "       [ 1.20158952e-01,  6.17203110e-01],\n",
       "       [ 3.00170320e-01, -3.52249846e-01],\n",
       "       [-1.14251820e+00, -3.49342722e-01],\n",
       "       [-2.08894233e-01,  5.86623191e-01],\n",
       "       [ 8.38983414e-01,  9.31102081e-01],\n",
       "       [ 2.85587325e-01,  8.85141164e-01],\n",
       "       [-7.54397941e-01,  1.25286816e+00],\n",
       "       [ 5.12929820e-01, -2.98092835e-01],\n",
       "       [ 4.88518147e-01, -7.55717130e-02],\n",
       "       [ 1.13162939e+00,  1.51981682e+00],\n",
       "       [ 2.18557541e+00, -1.39649634e+00],\n",
       "       [-1.44411381e+00, -5.04465863e-01],\n",
       "       [ 1.60037069e-01,  8.76168921e-01],\n",
       "       [ 3.15634947e-01, -2.02220122e+00],\n",
       "       [-3.06204013e-01,  8.27974643e-01],\n",
       "       [ 2.30094735e-01,  7.62011180e-01],\n",
       "       [-2.22328143e-01, -2.00758069e-01],\n",
       "       [ 1.86561391e-01,  4.10051647e-01],\n",
       "       [ 1.98299720e-01,  1.19008646e-01],\n",
       "       [-6.70662286e-01,  3.77563786e-01],\n",
       "       [ 1.21821271e-01,  1.12948391e+00],\n",
       "       [ 1.19891788e+00,  1.85156417e-01],\n",
       "       [-3.75284950e-01, -6.38730407e-01],\n",
       "       [ 4.23494354e-01,  7.73400683e-02],\n",
       "       [-3.43853676e-01,  4.35968568e-02],\n",
       "       [-6.20000844e-01,  6.98032034e-01],\n",
       "       [-4.47128565e-01,  1.22450770e+00],\n",
       "       [ 4.03491642e-01,  5.93578523e-01],\n",
       "       [-1.09491185e+00,  1.69382433e-01],\n",
       "       [ 7.40556451e-01, -9.53700602e-01],\n",
       "       [-2.66218506e-01,  3.26145467e-02],\n",
       "       [-1.37311732e+00,  3.15159392e-01],\n",
       "       [ 8.46160648e-01, -8.59515941e-01],\n",
       "       [ 3.50545979e-01, -1.31228341e+00],\n",
       "       [-3.86955093e-02, -1.61577235e+00],\n",
       "       [ 1.12141771e+00,  4.08900538e-01],\n",
       "       [-2.46169559e-02, -7.75161619e-01],\n",
       "       [ 1.27375593e+00,  1.96710175e+00],\n",
       "       [-1.85798186e+00,  1.23616403e+00],\n",
       "       [ 1.62765075e+00,  3.38011697e-01],\n",
       "       [-1.19926803e+00,  8.63345318e-01],\n",
       "       [-1.80920302e-01, -6.03920628e-01],\n",
       "       [-1.23005814e+00,  5.50537496e-01],\n",
       "       [ 7.92806866e-01, -6.23530730e-01],\n",
       "       [ 5.20576337e-01, -1.14434139e+00],\n",
       "       [ 8.01861032e-01,  4.65672984e-02],\n",
       "       [-1.86569772e-01, -1.01745873e-01],\n",
       "       [ 8.68886157e-01,  7.50411640e-01],\n",
       "       [ 5.29465324e-01,  1.37701210e-01],\n",
       "       [ 7.78211279e-02,  6.18380262e-01],\n",
       "       [ 2.32494559e-01,  6.82551407e-01],\n",
       "       [-3.10116774e-01, -2.43483776e+00],\n",
       "       [ 1.03882460e+00,  2.18697965e+00],\n",
       "       [ 4.41364444e-01, -1.00155233e-01],\n",
       "       [-1.36444744e-01, -1.19054188e-01],\n",
       "       [ 1.74094083e-02, -1.12201873e+00],\n",
       "       [-5.17094458e-01, -9.97026828e-01],\n",
       "       [ 2.48799161e-01, -2.96641152e-01],\n",
       "       [ 4.95211324e-01, -1.74703160e-01],\n",
       "       [ 9.86335188e-01,  2.13533901e-01],\n",
       "       [ 2.19069973e+00, -1.89636092e+00],\n",
       "       [-6.46916688e-01,  9.01486892e-01],\n",
       "       [ 2.52832571e+00, -2.48634778e-01],\n",
       "       [ 4.36689932e-02, -2.26314243e-01],\n",
       "       [ 1.33145711e+00, -2.87307863e-01],\n",
       "       [ 6.80069840e-01, -3.19801599e-01],\n",
       "       [-1.27255876e+00,  3.13547720e-01],\n",
       "       [ 5.03184813e-01,  1.29322588e+00],\n",
       "       [-1.10447026e-01, -6.17362064e-01],\n",
       "       [ 5.62761097e-01,  2.40737092e-01],\n",
       "       [ 2.80665077e-01, -7.31127037e-02],\n",
       "       [ 1.16033857e+00,  3.69492716e-01],\n",
       "       [ 1.90465871e+00,  1.11105670e+00],\n",
       "       [ 6.59049796e-01, -1.62743834e+00],\n",
       "       [ 6.02319280e-01,  4.20282204e-01],\n",
       "       [ 8.10951673e-01,  1.04444209e+00],\n",
       "       [-4.00878192e-01,  8.24005618e-01],\n",
       "       [-5.62305431e-01,  1.95487808e+00],\n",
       "       [-1.33195167e+00, -1.76068856e+00],\n",
       "       [-1.65072127e+00, -8.90555584e-01],\n",
       "       [-1.11911540e+00,  1.95607890e+00],\n",
       "       [-3.26499498e-01, -1.34267579e+00],\n",
       "       [ 1.11438298e+00, -5.86523939e-01],\n",
       "       [-1.23685338e+00,  8.75838928e-01],\n",
       "       [ 6.23362177e-01, -4.34956683e-01],\n",
       "       [ 1.40754000e+00,  1.29101580e-01],\n",
       "       [ 1.61694960e+00,  5.02740882e-01],\n",
       "       [ 1.55880554e+00,  1.09402696e-01],\n",
       "       [-1.21974440e+00,  2.44936865e+00],\n",
       "       [-5.45774168e-01, -1.98837863e-01],\n",
       "       [-7.00398505e-01, -2.03394449e-01],\n",
       "       [ 2.42669441e-01,  2.01830179e-01],\n",
       "       [ 6.61020288e-01,  1.79215821e+00],\n",
       "       [-1.20464572e-01, -1.23312074e+00],\n",
       "       [-1.18231813e+00, -6.65754518e-01],\n",
       "       [-1.67419581e+00,  8.25029824e-01],\n",
       "       [-4.98213564e-01, -3.10984978e-01],\n",
       "       [-1.89148284e-03, -1.39662042e+00],\n",
       "       [-8.61316361e-01,  6.74711526e-01],\n",
       "       [ 6.18539131e-01, -4.43171931e-01],\n",
       "       [ 1.81053491e+00, -1.30572692e+00],\n",
       "       [-3.44987210e-01, -2.30839743e-01],\n",
       "       [-2.79308500e+00,  1.93752881e+00],\n",
       "       [ 3.66332015e-01, -1.04458938e+00],\n",
       "       [ 2.05117344e+00,  5.85662000e-01],\n",
       "       [ 4.29526140e-01, -6.06998398e-01],\n",
       "       [ 1.06222724e-01, -1.52568032e+00],\n",
       "       [ 7.95026094e-01, -3.74438319e-01],\n",
       "       [ 1.34048197e-01,  1.20205486e+00],\n",
       "       [ 2.84748111e-01,  2.62467445e-01],\n",
       "       [ 2.76499305e-01, -7.33271604e-01],\n",
       "       [ 8.36004719e-01,  1.54335911e+00],\n",
       "       [ 7.58805660e-01,  8.84908814e-01],\n",
       "       [-8.77281519e-01, -8.67787223e-01],\n",
       "       [-1.44087602e+00,  1.23225307e+00],\n",
       "       [-2.54179868e-01,  1.39984394e+00],\n",
       "       [-7.81911683e-01, -4.37508983e-01],\n",
       "       [ 9.54250872e-02,  9.21450069e-01],\n",
       "       [ 6.07501958e-02,  2.11124755e-01],\n",
       "       [ 1.65275673e-02,  1.77187720e-01],\n",
       "       [-1.11647002e+00,  8.09271010e-02],\n",
       "       [-1.86578994e-01, -5.68244809e-02],\n",
       "       [ 4.92336556e-01, -6.80678141e-01],\n",
       "       [-8.45080274e-02, -2.97361883e-01],\n",
       "       [ 4.17302005e-01,  7.84770651e-01],\n",
       "       [-9.55425262e-01,  5.85910431e-01],\n",
       "       [ 2.06578332e+00, -1.47115693e+00],\n",
       "       [-8.30171895e-01, -8.80577600e-01],\n",
       "       [-2.79097722e-01,  1.62284909e+00],\n",
       "       [ 1.33526763e-02, -6.94693595e-01],\n",
       "       [ 6.21803504e-01, -5.99804531e-01],\n",
       "       [ 1.12341216e+00,  3.05267040e-01],\n",
       "       [ 1.38877940e+00, -6.61344243e-01],\n",
       "       [ 3.03085711e+00,  8.24584625e-01],\n",
       "       [ 6.54580153e-01, -5.11884476e-02],\n",
       "       [-7.25597119e-01, -8.67768678e-01],\n",
       "       [-1.35977326e-01, -7.97269785e-01],\n",
       "       [ 2.82675712e-01, -8.26097432e-01],\n",
       "       [ 6.21082701e-01,  9.56121704e-01],\n",
       "       [-7.05840507e-01,  1.19268607e+00],\n",
       "       [-2.37941936e-01,  1.15528789e+00],\n",
       "       [ 4.38166347e-01,  1.12232832e+00],\n",
       "       [-9.97019796e-01, -1.06793987e-01],\n",
       "       [ 1.45142926e+00, -6.18036848e-01],\n",
       "       [-2.03720123e+00, -1.94258918e+00],\n",
       "       [-2.50644065e+00, -2.11416392e+00],\n",
       "       [-4.11639163e-01,  1.27852808e+00],\n",
       "       [-4.42229280e-01,  3.23527354e-01],\n",
       "       [-1.09991490e-01,  8.54894544e-03],\n",
       "       [-1.68198840e-01, -1.74180344e-01],\n",
       "       [ 4.61164100e-01, -1.17598267e+00],\n",
       "       [ 1.01012718e+00,  9.20017933e-01],\n",
       "       [-1.95057341e-01,  8.05393424e-01],\n",
       "       [-7.01344426e-01, -5.37223024e-01],\n",
       "       [ 1.56263850e-01, -1.90221025e-01],\n",
       "       [-4.48738033e-01, -6.72448039e-01],\n",
       "       [-5.57494722e-01,  9.39168744e-01],\n",
       "       [-1.94332341e+00,  3.52494364e-01],\n",
       "       [-2.36436952e-01,  7.27813500e-01],\n",
       "       [ 5.15073614e-01, -2.78253447e+00],\n",
       "       [ 5.84646610e-01,  3.24274243e-01],\n",
       "       [ 2.18628366e-02, -4.68673816e-01],\n",
       "       [ 8.53281222e-01, -4.13029310e-01],\n",
       "       [ 1.83471763e+00,  5.64382855e-01],\n",
       "       [ 2.13782807e+00, -7.85533997e-01],\n",
       "       [-1.75592564e+00,  7.14789597e-01],\n",
       "       [ 8.52704062e-01,  3.53600971e-02],\n",
       "       [-1.53879325e+00, -4.47895185e-01],\n",
       "       [ 6.17985534e-01, -1.84176326e-01],\n",
       "       [-1.15985185e-01, -1.75458969e-01],\n",
       "       [-9.33914656e-01, -5.33020326e-01],\n",
       "       [-1.42655542e+00,  1.76795995e+00],\n",
       "       [-4.75372875e-01,  4.77610182e-01],\n",
       "       [-1.02188594e+00,  7.94528240e-01],\n",
       "       [-1.87316098e+00,  9.20615118e-01],\n",
       "       [-3.53679249e-02,  2.11060505e+00]])"
      ]
     },
     "execution_count": 19,
     "metadata": {},
     "output_type": "execute_result"
    }
   ],
   "source": [
    "#create a new dataset that cannot be linearly separated.\n",
    "\n",
    "np.random.seed(1)\n",
    "X_xor = np.random.randn(200, 2)\n",
    "X_xor"
   ]
  },
  {
   "cell_type": "code",
   "execution_count": 20,
   "metadata": {},
   "outputs": [
    {
     "data": {
      "text/plain": [
       "numpy.ndarray"
      ]
     },
     "execution_count": 20,
     "metadata": {},
     "output_type": "execute_result"
    }
   ],
   "source": [
    "type(X_xor)"
   ]
  },
  {
   "cell_type": "code",
   "execution_count": 24,
   "metadata": {},
   "outputs": [
    {
     "data": {
      "text/plain": [
       "array([ 1.62434536e+00, -5.28171752e-01,  8.65407629e-01,  1.74481176e+00,\n",
       "        3.19039096e-01,  1.46210794e+00, -3.22417204e-01,  1.13376944e+00,\n",
       "       -1.72428208e-01,  4.22137467e-02, -1.10061918e+00,  9.01590721e-01,\n",
       "        9.00855949e-01, -1.22890226e-01, -2.67888080e-01, -6.91660752e-01,\n",
       "       -6.87172700e-01, -6.71246131e-01, -1.11731035e+00,  1.65980218e+00,\n",
       "       -1.91835552e-01, -7.47158294e-01,  5.08077548e-02,  1.90915485e-01,\n",
       "        1.20158952e-01,  3.00170320e-01, -1.14251820e+00, -2.08894233e-01,\n",
       "        8.38983414e-01,  2.85587325e-01, -7.54397941e-01,  5.12929820e-01,\n",
       "        4.88518147e-01,  1.13162939e+00,  2.18557541e+00, -1.44411381e+00,\n",
       "        1.60037069e-01,  3.15634947e-01, -3.06204013e-01,  2.30094735e-01,\n",
       "       -2.22328143e-01,  1.86561391e-01,  1.98299720e-01, -6.70662286e-01,\n",
       "        1.21821271e-01,  1.19891788e+00, -3.75284950e-01,  4.23494354e-01,\n",
       "       -3.43853676e-01, -6.20000844e-01, -4.47128565e-01,  4.03491642e-01,\n",
       "       -1.09491185e+00,  7.40556451e-01, -2.66218506e-01, -1.37311732e+00,\n",
       "        8.46160648e-01,  3.50545979e-01, -3.86955093e-02,  1.12141771e+00,\n",
       "       -2.46169559e-02,  1.27375593e+00, -1.85798186e+00,  1.62765075e+00,\n",
       "       -1.19926803e+00, -1.80920302e-01, -1.23005814e+00,  7.92806866e-01,\n",
       "        5.20576337e-01,  8.01861032e-01, -1.86569772e-01,  8.68886157e-01,\n",
       "        5.29465324e-01,  7.78211279e-02,  2.32494559e-01, -3.10116774e-01,\n",
       "        1.03882460e+00,  4.41364444e-01, -1.36444744e-01,  1.74094083e-02,\n",
       "       -5.17094458e-01,  2.48799161e-01,  4.95211324e-01,  9.86335188e-01,\n",
       "        2.19069973e+00, -6.46916688e-01,  2.52832571e+00,  4.36689932e-02,\n",
       "        1.33145711e+00,  6.80069840e-01, -1.27255876e+00,  5.03184813e-01,\n",
       "       -1.10447026e-01,  5.62761097e-01,  2.80665077e-01,  1.16033857e+00,\n",
       "        1.90465871e+00,  6.59049796e-01,  6.02319280e-01,  8.10951673e-01,\n",
       "       -4.00878192e-01, -5.62305431e-01, -1.33195167e+00, -1.65072127e+00,\n",
       "       -1.11911540e+00, -3.26499498e-01,  1.11438298e+00, -1.23685338e+00,\n",
       "        6.23362177e-01,  1.40754000e+00,  1.61694960e+00,  1.55880554e+00,\n",
       "       -1.21974440e+00, -5.45774168e-01, -7.00398505e-01,  2.42669441e-01,\n",
       "        6.61020288e-01, -1.20464572e-01, -1.18231813e+00, -1.67419581e+00,\n",
       "       -4.98213564e-01, -1.89148284e-03, -8.61316361e-01,  6.18539131e-01,\n",
       "        1.81053491e+00, -3.44987210e-01, -2.79308500e+00,  3.66332015e-01,\n",
       "        2.05117344e+00,  4.29526140e-01,  1.06222724e-01,  7.95026094e-01,\n",
       "        1.34048197e-01,  2.84748111e-01,  2.76499305e-01,  8.36004719e-01,\n",
       "        7.58805660e-01, -8.77281519e-01, -1.44087602e+00, -2.54179868e-01,\n",
       "       -7.81911683e-01,  9.54250872e-02,  6.07501958e-02,  1.65275673e-02,\n",
       "       -1.11647002e+00, -1.86578994e-01,  4.92336556e-01, -8.45080274e-02,\n",
       "        4.17302005e-01, -9.55425262e-01,  2.06578332e+00, -8.30171895e-01,\n",
       "       -2.79097722e-01,  1.33526763e-02,  6.21803504e-01,  1.12341216e+00,\n",
       "        1.38877940e+00,  3.03085711e+00,  6.54580153e-01, -7.25597119e-01,\n",
       "       -1.35977326e-01,  2.82675712e-01,  6.21082701e-01, -7.05840507e-01,\n",
       "       -2.37941936e-01,  4.38166347e-01, -9.97019796e-01,  1.45142926e+00,\n",
       "       -2.03720123e+00, -2.50644065e+00, -4.11639163e-01, -4.42229280e-01,\n",
       "       -1.09991490e-01, -1.68198840e-01,  4.61164100e-01,  1.01012718e+00,\n",
       "       -1.95057341e-01, -7.01344426e-01,  1.56263850e-01, -4.48738033e-01,\n",
       "       -5.57494722e-01, -1.94332341e+00, -2.36436952e-01,  5.15073614e-01,\n",
       "        5.84646610e-01,  2.18628366e-02,  8.53281222e-01,  1.83471763e+00,\n",
       "        2.13782807e+00, -1.75592564e+00,  8.52704062e-01, -1.53879325e+00,\n",
       "        6.17985534e-01, -1.15985185e-01, -9.33914656e-01, -1.42655542e+00,\n",
       "       -4.75372875e-01, -1.02188594e+00, -1.87316098e+00, -3.53679249e-02])"
      ]
     },
     "execution_count": 24,
     "metadata": {},
     "output_type": "execute_result"
    }
   ],
   "source": [
    "X_xor[: ,0]"
   ]
  },
  {
   "cell_type": "code",
   "execution_count": 25,
   "metadata": {
    "scrolled": true
   },
   "outputs": [
    {
     "data": {
      "text/plain": [
       "array([ True, False,  True,  True,  True,  True, False,  True, False,\n",
       "       False,  True, False,  True, False,  True, False, False, False,\n",
       "        True, False, False,  True,  True, False, False,  True, False,\n",
       "        True, False, False,  True,  True,  True, False,  True, False,\n",
       "       False,  True,  True, False, False, False, False,  True, False,\n",
       "       False, False, False,  True,  True,  True, False,  True,  True,\n",
       "        True,  True,  True,  True, False, False, False, False,  True,\n",
       "       False,  True, False,  True,  True,  True, False, False, False,\n",
       "       False, False, False, False, False,  True, False,  True, False,\n",
       "        True,  True, False,  True,  True,  True,  True,  True,  True,\n",
       "        True, False, False, False,  True, False, False,  True, False,\n",
       "       False,  True,  True, False, False,  True, False,  True,  True,\n",
       "        True, False, False, False,  True, False, False, False, False,\n",
       "       False, False,  True, False, False,  True,  True,  True, False,\n",
       "        True,  True, False,  True,  True,  True, False, False,  True,\n",
       "       False, False, False,  True,  True, False, False, False, False,\n",
       "        True, False,  True, False, False,  True,  True, False,  True,\n",
       "        True,  True, False,  True, False,  True, False, False,  True,\n",
       "       False,  True,  True, False, False,  True, False, False,  True,\n",
       "        True,  True, False,  True, False,  True, False,  True, False,\n",
       "        True,  True,  True,  True, False,  True,  True, False,  True,\n",
       "        True, False, False,  True, False, False,  True,  True,  True,\n",
       "        True,  True])"
      ]
     },
     "execution_count": 25,
     "metadata": {},
     "output_type": "execute_result"
    }
   ],
   "source": [
    "y_xor = np.logical_xor(X_xor[:, 0] > 0,\n",
    "                       X_xor[:, 1] > 0)\n",
    "y_xor"
   ]
  },
  {
   "cell_type": "code",
   "execution_count": null,
   "metadata": {},
   "outputs": [],
   "source": []
  },
  {
   "cell_type": "code",
   "execution_count": 26,
   "metadata": {},
   "outputs": [
    {
     "data": {
      "text/plain": [
       "array([ 1, -1,  1,  1,  1,  1, -1,  1, -1, -1,  1, -1,  1, -1,  1, -1, -1,\n",
       "       -1,  1, -1, -1,  1,  1, -1, -1,  1, -1,  1, -1, -1,  1,  1,  1, -1,\n",
       "        1, -1, -1,  1,  1, -1, -1, -1, -1,  1, -1, -1, -1, -1,  1,  1,  1,\n",
       "       -1,  1,  1,  1,  1,  1,  1, -1, -1, -1, -1,  1, -1,  1, -1,  1,  1,\n",
       "        1, -1, -1, -1, -1, -1, -1, -1, -1,  1, -1,  1, -1,  1,  1, -1,  1,\n",
       "        1,  1,  1,  1,  1,  1, -1, -1, -1,  1, -1, -1,  1, -1, -1,  1,  1,\n",
       "       -1, -1,  1, -1,  1,  1,  1, -1, -1, -1,  1, -1, -1, -1, -1, -1, -1,\n",
       "        1, -1, -1,  1,  1,  1, -1,  1,  1, -1,  1,  1,  1, -1, -1,  1, -1,\n",
       "       -1, -1,  1,  1, -1, -1, -1, -1,  1, -1,  1, -1, -1,  1,  1, -1,  1,\n",
       "        1,  1, -1,  1, -1,  1, -1, -1,  1, -1,  1,  1, -1, -1,  1, -1, -1,\n",
       "        1,  1,  1, -1,  1, -1,  1, -1,  1, -1,  1,  1,  1,  1, -1,  1,  1,\n",
       "       -1,  1,  1, -1, -1,  1, -1, -1,  1,  1,  1,  1,  1])"
      ]
     },
     "execution_count": 26,
     "metadata": {},
     "output_type": "execute_result"
    }
   ],
   "source": [
    "y_xor = np.where(y_xor, 1, -1)\n",
    "y_xor"
   ]
  },
  {
   "cell_type": "code",
   "execution_count": 28,
   "metadata": {},
   "outputs": [
    {
     "data": {
      "text/plain": [
       "array([ 1.62434536,  0.86540763,  1.74481176,  0.3190391 ,  1.46210794,\n",
       "        1.13376944, -1.10061918,  0.90085595, -0.26788808, -1.11731035,\n",
       "       -0.74715829,  0.05080775,  0.30017032, -0.20889423, -0.75439794,\n",
       "        0.51292982,  0.48851815,  2.18557541,  0.31563495, -0.30620401,\n",
       "       -0.67066229, -0.34385368, -0.62000084, -0.44712856, -1.09491185,\n",
       "        0.74055645, -0.26621851, -1.37311732,  0.84616065,  0.35054598,\n",
       "       -1.85798186, -1.19926803, -1.23005814,  0.79280687,  0.52057634,\n",
       "        0.44136444,  0.01740941,  0.24879916,  0.49521132,  2.19069973,\n",
       "       -0.64691669,  2.52832571,  0.04366899,  1.33145711,  0.68006984,\n",
       "       -1.27255876,  0.28066508,  0.6590498 , -0.40087819, -0.56230543,\n",
       "       -1.1191154 ,  1.11438298, -1.23685338,  0.62336218, -1.2197444 ,\n",
       "       -1.67419581, -0.86131636,  0.61853913,  1.81053491, -2.793085  ,\n",
       "        0.36633201,  0.42952614,  0.10622272,  0.79502609,  0.2764993 ,\n",
       "       -1.44087602, -0.25417987, -1.11647002,  0.49233656, -0.95542526,\n",
       "        2.06578332, -0.27909772,  0.01335268,  0.6218035 ,  1.3887794 ,\n",
       "        0.65458015,  0.28267571, -0.70584051, -0.23794194,  1.45142926,\n",
       "       -0.41163916, -0.44222928, -0.10999149,  0.4611641 , -0.19505734,\n",
       "        0.15626385, -0.55749472, -1.94332341, -0.23643695,  0.51507361,\n",
       "        0.02186284,  0.85328122,  2.13782807, -1.75592564,  0.61798553,\n",
       "       -1.42655542, -0.47537288, -1.02188594, -1.87316098, -0.03536792])"
      ]
     },
     "execution_count": 28,
     "metadata": {},
     "output_type": "execute_result"
    }
   ],
   "source": [
    "X_xor[y_xor == 1, 0]"
   ]
  },
  {
   "cell_type": "code",
   "execution_count": null,
   "metadata": {},
   "outputs": [],
   "source": []
  }
 ],
 "metadata": {
  "kernelspec": {
   "display_name": "Python 3",
   "language": "python",
   "name": "python3"
  },
  "language_info": {
   "codemirror_mode": {
    "name": "ipython",
    "version": 3
   },
   "file_extension": ".py",
   "mimetype": "text/x-python",
   "name": "python",
   "nbconvert_exporter": "python",
   "pygments_lexer": "ipython3",
   "version": "3.7.2"
  }
 },
 "nbformat": 4,
 "nbformat_minor": 2
}
